{
 "cells": [
  {
   "cell_type": "markdown",
   "metadata": {},
   "source": [
    "### Your details"
   ]
  },
  {
   "attachments": {},
   "cell_type": "markdown",
   "metadata": {},
   "source": [
    "Your Name: Sajin Mohamed Pallkkathodi Erathali"
   ]
  },
  {
   "attachments": {},
   "cell_type": "markdown",
   "metadata": {},
   "source": [
    "Your ID number: 23037601"
   ]
  },
  {
   "cell_type": "markdown",
   "metadata": {},
   "source": [
    "# Task 1"
   ]
  },
  {
   "attachments": {},
   "cell_type": "markdown",
   "metadata": {},
   "source": [
    "## Approach\n",
    "\n",
    "For Matrix Multiplication \n",
    "          Here we need to multiply the values of x00 with y00 and sum that with x01*y10 and sum that with x02 * y20.\n",
    "          On analysing this we see that the column value of the X and the row value of the Y are always same, hence we mark it as k(the inner most loop).\n",
    "          Going further, x00*y00 + x01*y10 + x02*y20  x00*y01 + x01*y11 + x02*y21\n",
    "                         x10*y00 + x11*y10 + x12*y20  x10*y01 + x11*y11 + x12*y21\n",
    "            we can see that the column value of y is increasing with every increase in record we insert (but not the row value of x, hence it goes in the outer most loop), hence we place it in the immediate outer loop. Here again we note the change of k\n",
    "            Further explanation is given in the code"
   ]
  },
  {
   "attachments": {},
   "cell_type": "markdown",
   "metadata": {},
   "source": [
    "## Manual Calculations\n",
    "\n",
    "(If you used manual calculations to verify your code, mention them here)\n",
    "I have used numpy and unittest case to validate the code\n",
    "\n",
    "\n",
    "          "
   ]
  },
  {
   "attachments": {},
   "cell_type": "markdown",
   "metadata": {},
   "source": [
    "Scalar multiplication of a vector"
   ]
  },
  {
   "cell_type": "markdown",
   "metadata": {},
   "source": [
    "## Code"
   ]
  },
  {
   "cell_type": "code",
   "execution_count": 1,
   "metadata": {},
   "outputs": [
    {
     "name": "stdout",
     "output_type": "stream",
     "text": [
      "The scalar multiplication of vector [2, 3, 4, 5] with scalar of 5 leads to result of :\n",
      "[10, 15, 20, 25]\n"
     ]
    }
   ],
   "source": [
    "\"\"\"scalar multiplication is simply multiplying each element in the vector by the scalar.\n",
    "Hence we iterate through each element of the vector and multiply it with the scalar. ie scaling the vector\"\"\"\n",
    "def scalarMul(V, s):\n",
    "    result = [0] * len(V)\n",
    "    result = [i * s for i in V]\n",
    "    return result\n",
    "\n",
    "v = [2,3,4,5]\n",
    "s = 5\n",
    "result = scalarMul(v, s)\n",
    "print(f'The scalar multiplication of vector {v} with scalar of {s} leads to result of :')\n",
    "print(result)"
   ]
  },
  {
   "attachments": {},
   "cell_type": "markdown",
   "metadata": {},
   "source": [
    "Test Case for Scalar Multiplication of vector using unit test case to validate the result using numpy"
   ]
  },
  {
   "cell_type": "code",
   "execution_count": 2,
   "metadata": {},
   "outputs": [
    {
     "name": "stderr",
     "output_type": "stream",
     "text": [
      ".\n",
      "----------------------------------------------------------------------\n",
      "Ran 1 test in 0.001s\n",
      "\n",
      "OK\n"
     ]
    }
   ],
   "source": [
    "import unittest\n",
    "import numpy as np\n",
    "\n",
    "v = np.array([2,3,4,5])\n",
    "scalar = 5\n",
    "\n",
    "testResult = v * scalar\n",
    "\n",
    "class TestScalar(unittest.TestCase):\n",
    "    def test_scalarMul(self):\n",
    "        self.assertTrue(np.array_equal(result, testResult))\n",
    "\n",
    "if __name__ == \"__main__\":\n",
    "    unittest.main(argv=[\"first-arg-is-ignored\"], exit=False)"
   ]
  },
  {
   "attachments": {},
   "cell_type": "markdown",
   "metadata": {},
   "source": [
    "Addition and subtraction of two vectors. Check vectors of the same size are passed."
   ]
  },
  {
   "cell_type": "code",
   "execution_count": 3,
   "metadata": {},
   "outputs": [
    {
     "name": "stdout",
     "output_type": "stream",
     "text": [
      "The result of addition of vector  [1, 2, 3]  and  [2, 3, 4] is \n",
      "[3, 5, 7]\n",
      "The result of subtraction of vector  [2, 3, 4]  from  [1, 2, 3] is \n",
      "[-1, -1, -1]\n"
     ]
    }
   ],
   "source": [
    "\"\"\"Addition of vectors is summing up all the x's, y's and z's.\n",
    "Hence, we iterate through the x's, y's and z's of the both the vectors ie. x1 + x2, y1 + y2, z1 + z2\"\"\"\n",
    "def addVector(aV, bV):\n",
    "    if (len(aV) != len(bV)):\n",
    "        raise ValueError(\"The vectors passed are not of same length\")\n",
    "    else:\n",
    "        result = [0] * len(aV) # since len(aV) == len(bV) for addition, either len(aV) or len(bV) would work here to instantiate the result vector\n",
    "        result = [aV[i] + bV[i] for i in range(len(aV))] # here again the same reason as above for iteration\n",
    "        return result\n",
    "    \n",
    "def subVector(aV, bV):\n",
    "    if (len(aV) != len(bV)):\n",
    "        raise ValueError(\"The vectors passed are not of same length\")\n",
    "    else:\n",
    "        result = [0] * len(aV) # since len(aV) == len(bV) for subtraction, either len(aV) or len(bV) would work here to instantiate the result vector\n",
    "        result = [aV[i] - bV[i] for i in range(len(aV))] # here again the same reason as above for iteration\n",
    "        return result\n",
    "\n",
    "aV = [1,2,3]\n",
    "bV = [2,3,4]\n",
    "cV = [4,5,6,7]\n",
    "resultAdd = addVector(aV, bV)\n",
    "print(\"The result of addition of vector \", aV, \" and \", bV, \"is \")\n",
    "print(resultAdd)\n",
    "resultSub = subVector(aV, bV)\n",
    "print(\"The result of subtraction of vector \", bV, \" from \", aV, \"is \")\n",
    "print(resultSub)\n"
   ]
  },
  {
   "attachments": {},
   "cell_type": "markdown",
   "metadata": {},
   "source": [
    "Test Case for add and subtract vector using numpy and unittest"
   ]
  },
  {
   "cell_type": "code",
   "execution_count": 4,
   "metadata": {},
   "outputs": [
    {
     "name": "stderr",
     "output_type": "stream",
     "text": [
      ".....\n",
      "----------------------------------------------------------------------\n",
      "Ran 5 tests in 0.005s\n",
      "\n",
      "OK\n"
     ]
    },
    {
     "name": "stdout",
     "output_type": "stream",
     "text": [
      "[3 5 7]\n",
      "[-1 -1 -1]\n"
     ]
    }
   ],
   "source": [
    "import numpy as np\n",
    "import unittest\n",
    "\n",
    "aV = np.array([1,2,3])\n",
    "bV = np.array([2,3,4])\n",
    "cV = np.array([4,5,6,7])\n",
    "\n",
    "added = aV + bV\n",
    "print(added)\n",
    "subtracted = aV - bV\n",
    "print(subtracted)\n",
    "\n",
    "class TestAddVector(unittest.TestCase):\n",
    "    def test_addVector(self):\n",
    "        self.assertTrue(np.array_equal(resultAdd, added))\n",
    "    def test_subVector(self):\n",
    "        self.assertTrue(np.array_equal(resultSub, subtracted))\n",
    "    def test_addVectorError(self):\n",
    "        with self.assertRaises(ValueError):\n",
    "            addVector(aV, cV)\n",
    "    def test_subVectorError(self):\n",
    "        with self.assertRaises(ValueError):\n",
    "            subVector(aV, cV)\n",
    "if __name__ == '__main__':\n",
    "    unittest.main(argv=['first-arg-is-ignored'], exit=False)\n"
   ]
  },
  {
   "attachments": {},
   "cell_type": "markdown",
   "metadata": {},
   "source": [
    "The dot product of two vectors of length n. Check vectors of the same size are passed. "
   ]
  },
  {
   "cell_type": "code",
   "execution_count": 5,
   "metadata": {},
   "outputs": [
    {
     "name": "stdout",
     "output_type": "stream",
     "text": [
      "The dot product of [1, 2, 3] and [2, 3, 4] is : 20\n"
     ]
    }
   ],
   "source": [
    "\"\"\"dot product is the sum of the multiplication of all the x's, y's, and z's ie. x1*x2 + y1*y2 + z1*z2.\n",
    "Hence, we iterate through the length of either of the vector and sum up all the iterated(ith) values\"\"\"\n",
    "def dotProduct(aV, bV):\n",
    "    if (len(aV) != len(bV)):\n",
    "        raise ValueError(\"The vectors passed are not of same length\")\n",
    "    else:\n",
    "        result = 0 # since len(aV) == len(bV), either len(aV) or len(bV) would work here to instantiate the result vector\n",
    "        result = sum([aV[i] * bV[i] for i in range(len(aV))]) # here again the same reason as above for iteration\n",
    "        return result\n",
    "    \n",
    "aV = [1,2,3]\n",
    "bV = [2,3,4]\n",
    "dotResult = dotProduct(aV, bV)\n",
    "print(f'The dot product of {aV} and {bV} is :', dotResult)"
   ]
  },
  {
   "attachments": {},
   "cell_type": "markdown",
   "metadata": {},
   "source": [
    "Test case of dotproduct using numpy and unittest"
   ]
  },
  {
   "cell_type": "code",
   "execution_count": 6,
   "metadata": {},
   "outputs": [
    {
     "name": "stderr",
     "output_type": "stream",
     "text": [
      ".......\n",
      "----------------------------------------------------------------------\n",
      "Ran 7 tests in 0.006s\n",
      "\n",
      "OK\n"
     ]
    },
    {
     "name": "stdout",
     "output_type": "stream",
     "text": [
      "20\n"
     ]
    }
   ],
   "source": [
    "import unittest\n",
    "aV = [1,2,3]\n",
    "bV = [2,3,4]\n",
    "cV = [2,3,4,5]\n",
    "dotProd = np.dot(aV, bV)\n",
    "print(dotProd)\n",
    "class TestDotVector(unittest.TestCase):\n",
    "    def test_dotProduct(self):\n",
    "        self.assertTrue(np.array_equal(dotProd, dotResult))\n",
    "    def test_dotProdError(self):\n",
    "        with self.assertRaises(ValueError):\n",
    "            dotProduct(aV, cV)\n",
    "if __name__ == '__main__':\n",
    "    unittest.main(argv=['first-arg-is-ignored'], exit=False)"
   ]
  },
  {
   "attachments": {},
   "cell_type": "markdown",
   "metadata": {},
   "source": [
    "The cross product, which is defined for 3D-vectors. Check vectors of the correct size are passed."
   ]
  },
  {
   "cell_type": "code",
   "execution_count": 7,
   "metadata": {},
   "outputs": [
    {
     "name": "stdout",
     "output_type": "stream",
     "text": [
      "The cross product of [3, 4, 5] and [7, 8, 9] is:  (-4, 8, -4)\n"
     ]
    }
   ],
   "source": [
    "\"\"\"For calculating the cross product of a 3D Vector, we check the size of the vector = 3, if not raise error,\n",
    " else we use the method to calculate the cross product where we have x(b * f - e * c), -y(a * f - d * c), z(a * e - d * b),\n",
    " where we have a vector aV = [a,b,c] and bV = [d, e, f]\"\"\"\n",
    "def crossProduct3DVector(aV, bV):\n",
    "    if (len(aV) != len(bV) or len(aV)!= 3 or len(bV) != 3): #since the function is for 3D vectors we check for len = 3\n",
    "        raise ValueError(\"The vectors passed are not of correct length\")\n",
    "    else:\n",
    "        a,b,c,d,e,f = aV[0], aV[1], aV[2], bV[0], bV[1], bV[2] # assigning values of a, b, c... to each element in the vector for readability\n",
    "        return (b * f - e * c, -(a * f - d * c), a * e - d * b) # forming the result using the \"equation\"\n",
    "\n",
    "aV = [3,4,5]\n",
    "bV = [7,8,9]\n",
    "crossProdVector = crossProduct3DVector(aV, bV)\n",
    "print(f'The cross product of {aV} and {bV} is: ', crossProdVector)\n",
    "\n"
   ]
  },
  {
   "attachments": {},
   "cell_type": "markdown",
   "metadata": {},
   "source": [
    "Test cases for cross product using numpy and unittest"
   ]
  },
  {
   "cell_type": "code",
   "execution_count": 8,
   "metadata": {},
   "outputs": [
    {
     "name": "stderr",
     "output_type": "stream",
     "text": [
      ".........\n",
      "----------------------------------------------------------------------\n",
      "Ran 9 tests in 0.009s\n",
      "\n",
      "OK\n"
     ]
    },
    {
     "name": "stdout",
     "output_type": "stream",
     "text": [
      "[-4  8 -4]\n"
     ]
    }
   ],
   "source": [
    "import unittest\n",
    "aV = [3,4,5]\n",
    "bV = [7,8,9]\n",
    "cV = [2,3,4,5]\n",
    "crossProd = np.cross(aV, bV)\n",
    "print(crossProd)\n",
    "class TestCrossVector(unittest.TestCase):\n",
    "    def test_crossProduct(self):\n",
    "        self.assertTrue(np.array_equal(crossProd, crossProdVector))\n",
    "    def test_crossProdError(self):\n",
    "        with self.assertRaises(ValueError):\n",
    "            crossProduct3DVector(aV, cV)\n",
    "if __name__ == '__main__':\n",
    "    unittest.main(argv=['first-arg-is-ignored'], exit=False)"
   ]
  },
  {
   "attachments": {},
   "cell_type": "markdown",
   "metadata": {},
   "source": [
    " b. Matrix Operations"
   ]
  },
  {
   "attachments": {},
   "cell_type": "markdown",
   "metadata": {},
   "source": [
    "Calculate and return the size of a matrix as a 2-dimensional tuple"
   ]
  },
  {
   "cell_type": "code",
   "execution_count": 9,
   "metadata": {},
   "outputs": [
    {
     "name": "stdout",
     "output_type": "stream",
     "text": [
      "The size of the matrix [[1, 2], [5, 6], [64, 2]] is : (3, 2)\n"
     ]
    }
   ],
   "source": [
    "def matrixSize(m):\n",
    "    # get row from the length/size of the list and column from the length/size of the inner list\n",
    "    return tuple([len(m), len(m[0])])\n",
    "\n",
    "matrix = [[1,2],\n",
    "          [5,6], \n",
    "          [64,2]]\n",
    "sizeOfMatrix = matrixSize(matrix)\n",
    "print(f'The size of the matrix {matrix} is :', sizeOfMatrix)"
   ]
  },
  {
   "attachments": {},
   "cell_type": "markdown",
   "metadata": {},
   "source": [
    "unit test case for matrixSize using numpy and unittest"
   ]
  },
  {
   "cell_type": "code",
   "execution_count": 10,
   "metadata": {},
   "outputs": [
    {
     "name": "stderr",
     "output_type": "stream",
     "text": [
      "..........\n",
      "----------------------------------------------------------------------\n",
      "Ran 10 tests in 0.006s\n",
      "\n",
      "OK\n"
     ]
    }
   ],
   "source": [
    "import unittest\n",
    "\n",
    "class TestMatrixSize(unittest.TestCase):\n",
    "    \"\"\"unit test for the matrixSize function\"\"\"\n",
    "    def test_matrix_size(self):\n",
    "        matrix = [[1, 2], \n",
    "                  [5, 6], \n",
    "                  [64, 2]]\n",
    "        result = matrixSize(matrix)\n",
    "        self.assertEqual(result, (3, 2))  # Expected size is (3, 2)\n",
    "\n",
    "if __name__ == '__main__':\n",
    "    unittest.main(argv=['first-arg-is-ignored'], exit=False)\n"
   ]
  },
  {
   "attachments": {},
   "cell_type": "markdown",
   "metadata": {},
   "source": [
    "Sum/Subtract the matrix with another matrix of suitable size. Print a suitable error message if incorrect matrix sizes are passed."
   ]
  },
  {
   "cell_type": "code",
   "execution_count": 11,
   "metadata": {},
   "outputs": [
    {
     "name": "stdout",
     "output_type": "stream",
     "text": [
      "The result of addition of [[12, 7, 3], [4, 5, 6], [7, 8, 9]] and [[5, 8, 1], [6, 7, 3], [4, 5, 9]] is :\n",
      "[17, 15, 4]\n",
      "[10, 12, 9]\n",
      "[11, 13, 18]\n",
      "The result of subtraction of [[5, 8, 1], [6, 7, 3], [4, 5, 9]] and [[12, 7, 3], [4, 5, 6], [7, 8, 9]] is :\n",
      "[7, -1, 2]\n",
      "[-2, -2, 3]\n",
      "[3, 3, 0]\n"
     ]
    }
   ],
   "source": [
    "#program for matrix addition\n",
    "a = [[12,7,3],\n",
    "    [4 ,5,6],\n",
    "    [7 ,8,9]]\n",
    "\n",
    "b = [[5,8,1],\n",
    "    [6,7,3],\n",
    "    [4,5,9]]\n",
    "\n",
    "c = [[5,8],\n",
    "    [6,7]]\n",
    "\n",
    "def addMatrix(a, b):\n",
    "    \"\"\"We check for the size of the matrix by comparing the row(len(matrix)) and the column(len(matrix[0])) count, since these are list of lists.\n",
    "       Here we have i as the row count and j as the column count and we are adding the a[0][0] with the b[0][0]. \n",
    "       Hence we can take the range function on either a or b\"\"\"\n",
    "    if (len(a) == len(b) and len(a[0]) == len(b[0])) :\n",
    "        result = [[(a[i][j] + b[i][j]) for j in range(len(a[0]))] for i in range(len(a))]  #using comprehension for summing \n",
    "        return result\n",
    "        \n",
    "    else :\n",
    "            raise ValueError(\"Size of the two matrices provided are different\")  \n",
    "\n",
    "def subtractMatrix(X, Y) :\n",
    "    if (len(X) == len(Y) and len(X[0]) == len(Y[0])) :\n",
    "        result = [[X[i][j] - Y[i][j] for j in range(len(X[0]))] for i in range(len(X))] #using comprehension for subtract\n",
    "        return result\n",
    "    else :\n",
    "        raise ValueError(\"size of matrix is different\")\n",
    "\n",
    "\n",
    "print(f\"The result of addition of {a} and {b} is :\")\n",
    "# [print(row) for row in addMatrix(a,b)]\n",
    "for row in addMatrix(a,b):\n",
    "     print(row)\n",
    "\n",
    "print(f\"The result of subtraction of {b} and {a} is :\")\n",
    "for row in subtractMatrix(a,b):\n",
    "     print(row)"
   ]
  },
  {
   "attachments": {},
   "cell_type": "markdown",
   "metadata": {},
   "source": [
    "Test case for add and subtract Matrix verified using numpy  and unittest"
   ]
  },
  {
   "cell_type": "code",
   "execution_count": 12,
   "metadata": {},
   "outputs": [
    {
     "name": "stderr",
     "output_type": "stream",
     "text": [
      "..............\n",
      "----------------------------------------------------------------------\n",
      "Ran 14 tests in 0.008s\n",
      "\n",
      "OK\n"
     ]
    }
   ],
   "source": [
    "import numpy as np\n",
    "import unittest\n",
    "\n",
    "\n",
    "\"\"\"unit test for the addMatrix and subtractMatrix function using numpy\"\"\"\n",
    "def test_addMatrix():\n",
    "    a = np.array(\n",
    "        [[12,7,3],\n",
    "        [4 ,5,6],\n",
    "        [7 ,8,9]])\n",
    "\n",
    "    b = np.array(\n",
    "        [[5,8,1],\n",
    "        [6,7,3],\n",
    "        [4,5,9]])\n",
    "    \n",
    "    c = np.array(\n",
    "        [[5,8],\n",
    "        [6,7]])\n",
    "\n",
    "\n",
    "class TestAddMatrix(unittest.TestCase):\n",
    "    def test_addMatrixError(self):\n",
    "        with self.assertRaises(ValueError):\n",
    "            addMatrix(a,c)\n",
    "    def test_addMatrix(self):\n",
    "        self.assertTrue(np.array_equal(np.add(a,b), addMatrix(a,b)))\n",
    "\n",
    "class TestSubMatrix(unittest.TestCase):\n",
    "    def test_subtractMatrix(self):\n",
    "        with self.assertRaises(ValueError):\n",
    "            subtractMatrix(a,c)\n",
    "    def test_subMatrix(self):\n",
    "        self.assertTrue(np.array_equal(np.subtract(a,b), subtractMatrix(a,b)))\n",
    "\n",
    "if __name__ == '__main__':\n",
    "    unittest.main(argv=['first-arg-is-ignored'], exit=False)\n",
    "\n",
    "        "
   ]
  },
  {
   "attachments": {},
   "cell_type": "markdown",
   "metadata": {},
   "source": [
    "Multiply the matrix with a vector of suitable size. Print a suitable error message if incorrect matrix/vector sizes are passed."
   ]
  },
  {
   "attachments": {},
   "cell_type": "markdown",
   "metadata": {},
   "source": [
    "Multiply the matrix with a matrix of suitable size. Print a suitable error message if incorrect matrix sizes are passed."
   ]
  },
  {
   "cell_type": "code",
   "execution_count": 13,
   "metadata": {},
   "outputs": [
    {
     "name": "stdout",
     "output_type": "stream",
     "text": [
      "The result of multiplying matrices [[1, 2, 3], [4, 5, 6]] of size (2, 3) and [[2, 3], [45, 6], [2, 3]] of size (3, 2) is :\n",
      "[98, 24]\n",
      "[245, 60]\n"
     ]
    }
   ],
   "source": [
    "\"\"\"Matrix X of dimension/size m x p multiplied with Y of dimension/size p x n to obtain a result matrix of dimension/size m x n\"\"\"\n",
    "X = [[1, 2, 3], \n",
    "     [4, 5, 6]]\n",
    "Y = [[2, 3], \n",
    "     [45,6], \n",
    "     [2,3]]\n",
    "\n",
    "def multiplyMatrix(X, Y):\n",
    "     if len(X) != len(Y[0]):\n",
    "          raise ValueError(\"The column count of Matrix Y is not equal to the row count of Matrix X\")        \n",
    "     else :\n",
    "          result = [[0 for _ in range(len(Y[0]))] for _ in range(len(X))] #initializing a Matrix with 0s of size m(from the row count of matrix X) x n(from the column count of the matrix Y)\n",
    "         \n",
    "          \"\"\"here we need to multiply the values of x00 with y00 and sum that with x01*y10 and sum that with x02 * y20.\n",
    "             On analysing this we see that the column value of the X and the row value of the Y are always same \n",
    "             and should go till the column value of X(since its a matrix multiplication),\n",
    "             hence we mark it as k(the inner most loop).\n",
    "             Going further, x00*y00 + x01*y10 + x02*x20  x00*y01 + x01*y11 + x02*y21\n",
    "                            x10*y00 + x11*y10 + x12*y20  x10*y01 + x11*y11 + x12*y21\n",
    "             we can see that the column value of y is increasing with every increase in record we insert (but not the row value of x, \n",
    "             it only increases once the j value(ie. count of the column value of Y, is exhausted)\n",
    "             hence it goes in the outer most loop), hence we place it in the immediate outer loop.\"\"\"\n",
    "          for i in range(len(X)) : # m of X\n",
    "               for j in range(len(Y[0])) : # n of Y\n",
    "                     for k in range(len(X[0])) :\n",
    "                         result[i][j] += X[i][k] * Y[k][j]; #we take the result as i,j as count m * n(as mentioned above)\n",
    "                         \n",
    "          \n",
    "          return result\n",
    "           \n",
    "multipliedMatrix = multiplyMatrix(X,Y)\n",
    "\n",
    "print(f\"The result of multiplying matrices {X} of size {matrixSize(X)} and {Y} of size {matrixSize(Y)} is :\")\n",
    "\n",
    "for row in multipliedMatrix:\n",
    "     print(row)"
   ]
  },
  {
   "attachments": {},
   "cell_type": "markdown",
   "metadata": {},
   "source": [
    "Test case for matrix multiplication"
   ]
  },
  {
   "cell_type": "code",
   "execution_count": 14,
   "metadata": {},
   "outputs": [
    {
     "name": "stderr",
     "output_type": "stream",
     "text": [
      "................\n",
      "----------------------------------------------------------------------\n",
      "Ran 16 tests in 0.006s\n",
      "\n",
      "OK\n"
     ]
    }
   ],
   "source": [
    "import unittest\n",
    "import numpy as np\n",
    "\n",
    "# Define matrices X and Y\n",
    "X = np.array([[1, 2, 3],\n",
    "              [4, 5, 6]])\n",
    "\n",
    "Y = np.array([[2, 3],\n",
    "              [45, 6],\n",
    "              [2, 3]])\n",
    "\n",
    "Z = np.array([[1,2,3,4],\n",
    "              [2,3,5,6]])\n",
    "\n",
    "matMul = np.matmul(X, Y)\n",
    "\n",
    "class TestMultiplyMatrix(unittest.TestCase):\n",
    "    def test_multiplyMatrixError(self):\n",
    "        with self.assertRaises(ValueError):\n",
    "            multiplyMatrix(X,Z)\n",
    "    def test_multiplyMatrix(self):\n",
    "        self.assertTrue(np.array_equal(np.matmul(X, Y), multiplyMatrix(X,Y)))\n",
    "\n",
    "if __name__ == '__main__':\n",
    "    unittest.main(argv=['first-arg-is-ignored'], exit=False)\n",
    "\n"
   ]
  },
  {
   "attachments": {},
   "cell_type": "markdown",
   "metadata": {},
   "source": [
    "Calculate the determinant of a 2x2 matrix. For any other matrix this function should print a suitable error message."
   ]
  },
  {
   "cell_type": "code",
   "execution_count": 15,
   "metadata": {},
   "outputs": [
    {
     "name": "stdout",
     "output_type": "stream",
     "text": [
      "The calculated determinant of [[1, 2], [2, 3]] is :\n",
      "-1\n"
     ]
    }
   ],
   "source": [
    "def determinant(matrix):\n",
    "    \"\"\"Calculate determinant by evaluating the length of the list of matrix(this would be the row count) \n",
    "    and the length of the list inside the list(this would be the column count). If either is not equal to 2(square matrix of size 2 \n",
    "    as we would only be able to calculate determinant on a square matix) then raise the error message\"\"\"\n",
    "    if(len(matrix) != 2 or len(matrix[0]) != 2):\n",
    "        raise ValueError(\"the matrix provided is not a 2 x 2 matrix\")\n",
    "    else :\n",
    "            a = matrix[0][0]\n",
    "            b = matrix[0][1]\n",
    "            c = matrix[1][0]\n",
    "            d = matrix[1][1]\n",
    "            det = (a * d) - (b * c) # the equation to calculate the determinant : a.d - b.c\n",
    "    return det\n",
    "\n",
    "matrix = [[1,2], \n",
    "          [2,3]]\n",
    "\n",
    "detCalculated = determinant(matrix)\n",
    "print(f\"The calculated determinant of {matrix} is :\")\n",
    "print(detCalculated)"
   ]
  },
  {
   "attachments": {},
   "cell_type": "markdown",
   "metadata": {},
   "source": [
    "Test case for determinant using numpy.linalg"
   ]
  },
  {
   "cell_type": "code",
   "execution_count": 16,
   "metadata": {},
   "outputs": [
    {
     "name": "stderr",
     "output_type": "stream",
     "text": [
      "..................\n",
      "----------------------------------------------------------------------\n",
      "Ran 18 tests in 0.008s\n",
      "\n",
      "OK\n"
     ]
    }
   ],
   "source": [
    "import unittest\n",
    "import numpy as np\n",
    "\n",
    "matrixPass = [[1,2], \n",
    "          [2,3]]\n",
    "\n",
    "matrixFail = [[1,2,3], \n",
    "          [2,3,3]]\n",
    "class TestDeterminant(unittest.TestCase):\n",
    "    def test_determinant(self):\n",
    "        self.assertEqual(determinant(matrixPass), np.linalg.det(matrixPass), \"Value should be -1\")\n",
    "    def test_determinantError(self):\n",
    "        with self.assertRaises(ValueError):\n",
    "            determinant(matrixFail)\n",
    "            \n",
    "if __name__ == '__main__':\n",
    "    unittest.main(argv=['first-arg-is-ignored'], exit=False)"
   ]
  },
  {
   "attachments": {},
   "cell_type": "markdown",
   "metadata": {},
   "source": [
    "Calculate the inverse of a 2x2 matrix.  For any other matrix this function should print a suitable error message. An error message should also be raised if the matrix is non-invertible."
   ]
  },
  {
   "cell_type": "code",
   "execution_count": 17,
   "metadata": {},
   "outputs": [
    {
     "name": "stdout",
     "output_type": "stream",
     "text": [
      "The inverse of the matrix is :\n",
      "[[1.0, -0.5], [-2.0, 1.5]]\n"
     ]
    }
   ],
   "source": [
    "import time\n",
    "def invertMartix(matrix) :\n",
    "    \"\"\"invert matrix by swapping the a and d and changing the signs for b and c and \n",
    "    then dividing by determinant of the matrix\"\"\"\n",
    "\n",
    "    if(len(matrix) != 2 or len(matrix[0]) != 2):  # check for 2 x 2 matrix\n",
    "        raise ValueError(\"The matrix provided is not a 2 x 2 matrix\")\n",
    "    else :\n",
    "        a = matrix[0][0]\n",
    "        b = matrix[0][1]\n",
    "        c = matrix[1][0]\n",
    "        d = matrix[1][1]\n",
    "       \n",
    "        det = (a * d) - (b * c) # the equation to calculate the determinant : a.d - b.c\n",
    "\n",
    "        if (det != 0):  \n",
    "            \"\"\"if determinant is non zero(not a Singular Matrix) then proceed with the calculation, \n",
    "            else raise an error with the message that the provided matrix is a singular matrix \n",
    "            and has the determinant equals 0 and hence no inverse exists.\"\"\"\n",
    "            \n",
    "            \n",
    "            b = -b        #changing signs\n",
    "            c = -c\n",
    "\n",
    "            # a = a + d   #swapping a and d without using temp but is not performance efficient\n",
    "            # d = a - d\n",
    "            # a = a - d\n",
    "         \n",
    "            temp = a      #an alternate way to swap using a temporary variable\n",
    "            a = d\n",
    "            d = temp\n",
    "            \n",
    "            \n",
    "\n",
    "            a = a/det     # divide each by determinant\n",
    "            b = b/det\n",
    "            c = c/det\n",
    "            d = d/det\n",
    "        else :\n",
    "            raise ValueError(\"\"\"no inverse exists due to Determinant of the matrix being 0. \n",
    "            ie. The provided matrix is a Singular Matrix\"\"\")\n",
    "\n",
    "        return [[a, b], [c, d]]\n",
    "        \n",
    "\n",
    "matrix = [[3, 1],\n",
    "          [4, 2]]\n",
    "inverseMatrix = invertMartix(matrix)\n",
    "print(f'The inverse of the matrix is :')\n",
    "print(inverseMatrix)"
   ]
  },
  {
   "attachments": {},
   "cell_type": "markdown",
   "metadata": {},
   "source": [
    "Test case for invert matrix"
   ]
  },
  {
   "cell_type": "code",
   "execution_count": 18,
   "metadata": {},
   "outputs": [
    {
     "name": "stderr",
     "output_type": "stream",
     "text": [
      "....................\n",
      "----------------------------------------------------------------------\n",
      "Ran 20 tests in 0.012s\n",
      "\n",
      "OK\n"
     ]
    }
   ],
   "source": [
    "import unittest\n",
    "import numpy as np\n",
    "\n",
    "\n",
    "matrix = [[3, 1],\n",
    "          [4, 2]]\n",
    "\n",
    "matrixFail = [[1,2,3], \n",
    "          [2,3,3]]\n",
    "\n",
    "\n",
    "\n",
    "class TestInvertMatrix(unittest.TestCase):\n",
    "    def test_invertMatrix(self):\n",
    "        self.assertTrue(np.array_equal(invertMartix(matrix), np.linalg.inv(matrix)))     \n",
    "    def test_invertError(self):\n",
    "        with self.assertRaises(ValueError):\n",
    "            invertMartix(matrixFail)\n",
    "            \n",
    "if __name__ == '__main__':\n",
    "    unittest.main(argv=['first-arg-is-ignored'], exit=False)"
   ]
  },
  {
   "cell_type": "markdown",
   "metadata": {},
   "source": [
    "## Discussion\n",
    "\n",
    "Provide any discussion elements"
   ]
  },
  {
   "cell_type": "code",
   "execution_count": null,
   "metadata": {},
   "outputs": [],
   "source": []
  }
 ],
 "metadata": {
  "kernelspec": {
   "display_name": "Python 3",
   "language": "python",
   "name": "python3"
  },
  "language_info": {
   "codemirror_mode": {
    "name": "ipython",
    "version": 3
   },
   "file_extension": ".py",
   "mimetype": "text/x-python",
   "name": "python",
   "nbconvert_exporter": "python",
   "pygments_lexer": "ipython3",
   "version": "3.10.10"
  },
  "vscode": {
   "interpreter": {
    "hash": "aee8b7b246df8f9039afb4144a1f6fd8d2ca17a180786b69acc140d282b71a49"
   }
  }
 },
 "nbformat": 4,
 "nbformat_minor": 4
}
